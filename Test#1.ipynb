{
 "cells": [
  {
   "cell_type": "code",
   "execution_count": 1,
   "id": "c7066d76",
   "metadata": {},
   "outputs": [],
   "source": [
    "#'' 1.On what day did we make the most Gross Sales?\n",
    "#'' Why would it make sense for this to be our biggest sales day?\n",
    "#'' What are the characteristics of this day compared to an average day of sales at SPOKE?\n",
    "\n",
    "#'' 2.Which product type did we sell the most units of?\n",
    "#'' What business decisions could we make knowing this information?\n",
    "\n",
    "#'' 3.What does the distribution of waist sizes look like?\n",
    "#'' what does this say about our customer base?\n",
    "\n",
    "#'' 4.What is the unit return rate?\n",
    "#'' bonus points: what is our unit return rate for customers who ordered multiple sizes in the same basket?\n",
    "#'' what business decisions could we make knowing this information?\n",
    "\n",
    "#Some open ended questions we’d like you to consider are:\n",
    "\n",
    "#'' 1.\tDid you find anything else interesting in the data?\n",
    "#'' 2.\tAny comments on how the data is structured?\n",
    "#'' 3.\tWhat other analysis might we be able to run if you had more time / had the complete historical dataset?\n",
    "#'' 4.\tWhat other data sources might you want to combine with this to help enhance your analysis\n"
   ]
  },
  {
   "cell_type": "code",
   "execution_count": 2,
   "id": "fc235ad0",
   "metadata": {},
   "outputs": [
    {
     "name": "stdout",
     "output_type": "stream",
     "text": [
      "Current working diirectory: C:\\Users\\o20sh\\OneDrive\\PyJupyter\n"
     ]
    }
   ],
   "source": [
    "import os\n",
    "\n",
    "print('Current working diirectory: {0}'.format(os.getcwd()))\n",
    "\n",
    "#Just Changing the current working directory to the downloads where I have stored your test folder\n",
    "os.chdir('C:/USers/o20sh/Downloads')\n",
    "\n"
   ]
  },
  {
   "cell_type": "code",
   "execution_count": 3,
   "id": "b98142df",
   "metadata": {},
   "outputs": [
    {
     "name": "stdout",
     "output_type": "stream",
     "text": [
      "Index(['product_title', 'product_vendor', 'product_type', 'variant_title',\n",
      "       'variant_sku', 'variant_id', 'customer_id', 'order_id', 'day',\n",
      "       'net_quantity', 'gross_sales', 'discounts', 'returns', 'net_sales',\n",
      "       'taxes', 'total_sales', 'returned_item_quantity',\n",
      "       'ordered_item_quantity'],\n",
      "      dtype='object')\n"
     ]
    }
   ],
   "source": [
    "import pandas as pd\n",
    "\n",
    "df = pd.read_csv('SPOKE Orders - Analysis Task.csv')\n",
    "\n",
    "print(df.columns)\n",
    "#Simply shows all the column headers"
   ]
  },
  {
   "cell_type": "code",
   "execution_count": 4,
   "id": "93c5f815",
   "metadata": {},
   "outputs": [
    {
     "data": {
      "text/plain": [
       "day\n",
       "23/11/2018    179394.23\n",
       "Name: gross_sales, dtype: float64"
      ]
     },
     "execution_count": 4,
     "metadata": {},
     "output_type": "execute_result"
    }
   ],
   "source": [
    "# Q1 : On what day did we make the most Gross Sales?\n",
    "\n",
    "\n",
    "# The answer to your question, the top gross sales for an entire day by all customers\n",
    "# Which is the Output of this Cell (23/11/2018)\n",
    "\n",
    "df2 = df.astype({\"gross_sales\":int}) #Changed gross_sales dType to Int to make the sort values easier\n",
    "df2a = df.groupby('day')['gross_sales'].sum().sort_values(ascending=False)\n",
    "\n",
    "df2a.head(1) #Top Gross sales for an entire day\n",
    "\n",
    "# The reason for this phenomenal selling day is mainly because its a month\n",
    "# before christmas which is the busiest season of the year and most \n",
    "# parents and overall adults are getting slightly ahead of their shopping \n",
    "# before the national holiday. Also sales for christmas usually start \n",
    "# a few weeks after halloween which is around this period."
   ]
  },
  {
   "cell_type": "code",
   "execution_count": 5,
   "id": "3036717a",
   "metadata": {},
   "outputs": [
    {
     "name": "stdout",
     "output_type": "stream",
     "text": [
      "23909.135359116022\n"
     ]
    }
   ],
   "source": [
    "# What are the characteristics of this day compared to an average day of sales at SPOKE?\n",
    "df3 = df.groupby('day')['gross_sales'].sum().mean()\n",
    "print(df3)\n",
    "\n",
    "# An average day of sales is £23,909 so its roughly 7.5 times better than an\n",
    "# average day in sales."
   ]
  },
  {
   "cell_type": "code",
   "execution_count": 6,
   "id": "85cf54fc",
   "metadata": {},
   "outputs": [
    {
     "data": {
      "text/plain": [
       "product_type\n",
       "Sharps    1345870.72\n",
       "Name: total_sales, dtype: float64"
      ]
     },
     "execution_count": 6,
     "metadata": {},
     "output_type": "execute_result"
    }
   ],
   "source": [
    "# Q2 : Which product type did we sell the most units of?\n",
    "ndf = df.astype({\"total_sales\":int})\n",
    "n_by_prodtype = df.groupby('product_type')['total_sales'].sum().sort_values(ascending=False)\n",
    "n_by_prodtype.head(1)# Best product type by total sales\n",
    "\n",
    "#Business decisions you can make are which products should you increase \n",
    "#production for and which ones should you conversely reduce. Also which\n",
    "#ones more or less sell for themselves and which ones require some incentives\n",
    "#like discounts packaged with them."
   ]
  },
  {
   "cell_type": "code",
   "execution_count": 7,
   "id": "8d18f832",
   "metadata": {},
   "outputs": [
    {
     "data": {
      "text/plain": [
       "product_type\n",
       "Sharps           1345870.72\n",
       "Heroes            848232.33\n",
       "Fives             362369.22\n",
       "Cord Fives        211079.13\n",
       "Bulletproofs      207539.70\n",
       "Cord Sharps       143176.21\n",
       "Winter Heroes     141666.27\n",
       "Jeans             120110.14\n",
       "Polo              103739.01\n",
       "Hardys             84373.56\n",
       "Name: total_sales, dtype: float64"
      ]
     },
     "execution_count": 7,
     "metadata": {},
     "output_type": "execute_result"
    }
   ],
   "source": [
    "#Bonus Answer\n",
    "n_by_prodtype.head(10) # Extra distribution of top 10 products by sales"
   ]
  },
  {
   "cell_type": "code",
   "execution_count": 8,
   "id": "cb52e510",
   "metadata": {
    "scrolled": true
   },
   "outputs": [
    {
     "data": {
      "text/plain": [
       "variant_title\n",
       "34 / Build B / Finished to Order    342982.83\n",
       "32 / Build A / Finished to Order    257337.76\n",
       "36 / Build B / Finished to Order    253549.93\n",
       "34 / Build A / Finished to Order    235531.79\n",
       "32 / Build B / Finished to Order    203883.43\n",
       "33 / Build B / Finished to Order    186776.30\n",
       "33 / Build A / Finished to Order    165353.11\n",
       "35 / Build B / Finished to Order    156360.69\n",
       "38 / Build B / Finished to Order    134761.63\n",
       "36 / Build A / Finished to Order    104712.95\n",
       "31 / Build A / Finished to Order     98080.36\n",
       "30 / Build A / Finished to Order     83932.22\n",
       "36 / Build C / Finished to Order     78575.61\n",
       "38 / Build C / Finished to Order     75912.73\n",
       "35 / Build A / Finished to Order     72493.68\n",
       "34 / Build C / Finished to Order     63361.87\n",
       "37 / Build B / Finished to Order     58251.90\n",
       "40 / Build C / Finished to Order     54934.69\n",
       "31 / Build B / Finished to Order     51290.35\n",
       "40 / Build B / Finished to Order     48873.03\n",
       "38 / Build A / Finished to Order     42713.41\n",
       "30 / Build B / Finished to Order     38714.21\n",
       "35 / Build C / Finished to Order     30797.77\n",
       "37 / Build A / Finished to Order     29791.35\n",
       "33 / Build C / Finished to Order     29151.34\n",
       "Name: total_sales, dtype: float64"
      ]
     },
     "execution_count": 8,
     "metadata": {},
     "output_type": "execute_result"
    }
   ],
   "source": [
    "# Q3 : What does the distribution of waist sizes look like?\n",
    "n_by_sizetype = df.groupby('variant_title')['total_sales'].sum().sort_values(ascending=False)\n",
    "n_by_sizetype.head(25) #Top 25 sizes by sales\n",
    "# Your best customer demographics are mainly between size 32-36 in waist and \n",
    "# between Builds A & B and are all Tailored based on the finished to order division on the entry\n",
    "# Meaning the order was customised by the customer to a degree.\n",
    "# Overall it shows a distribution across all sizes however the most popular\n",
    "# suit the average male in height and weight. More importantly it shows\n",
    "# that your business strategy of tailoring mensware is extremely successfull as the top 25 sizes\n",
    "# in sales have all been tailored."
   ]
  },
  {
   "cell_type": "code",
   "execution_count": 9,
   "id": "7421e6cf",
   "metadata": {},
   "outputs": [
    {
     "name": "stdout",
     "output_type": "stream",
     "text": [
      "18.20861224897592\n"
     ]
    }
   ],
   "source": [
    "# Q4 : What is the unit return rate?\n",
    "# Unit return rate = (number of units returned / number of units sold) * 100\n",
    "Units_soldtotal = sum(df['ordered_item_quantity'])\n",
    "Units_returntotal = abs(sum(df['returned_item_quantity']))\n",
    "Unit_return_rate = (Units_returntotal/Units_soldtotal)*100 #shows percentage of returns in comparison to products sold\n",
    "print(Unit_return_rate)\n",
    "\n",
    "# This shows that roughly 18% of your sold items are being returned but this \n",
    "# less than the market average which is 25-30%. Therefore it's a good return rate.\n",
    "# However the business decisions that can be made on this insight would be that most returns are based on size\n",
    "# and fit and your tailoring business strategy has already made an impact by making a \n",
    "# cut of roughly 10% on the market average. More cuts can be added through higher \n",
    "# quality anddefinition images and descriptions however there will always be \n",
    "# serial returners, packaging issues that are very unpredictable."
   ]
  },
  {
   "cell_type": "code",
   "execution_count": 10,
   "id": "872bd098",
   "metadata": {},
   "outputs": [
    {
     "name": "stdout",
     "output_type": "stream",
     "text": [
      "0.2911208151382824\n"
     ]
    }
   ],
   "source": [
    "# Q4b : What is the unit return rate for customers who ordered multiple items\n",
    "\n",
    "df_mult = df[(df['ordered_item_quantity'] >= 2)]\n",
    "Units_soldtotal_mult = sum(df_mult['ordered_item_quantity'])\n",
    "Units_returntotal_mult = abs(sum(df_mult['returned_item_quantity']))\n",
    "Unit_return_rate_mult = (Units_returntotal_mult/Units_soldtotal_mult)*100 #shows the precentage of returns in comparison to products sold in multi filled basket\n",
    "print(Unit_return_rate_mult)\n",
    "\n",
    "# This result shows that a very small minority of customers return their items when buying multiple in an order\n",
    "# I beleive the reason for this is because if your buying multiple items, \n",
    "# your more likely to be an avid buyer of your shop and already know which \n",
    "# items you prefer and your size preference for the shop. Thats made even\n",
    "# more secure with your tailoring service. However single item buyers are \n",
    "# more than likely first time shoppers at your shop so they're not too sure\n",
    "# yet of which of your collection would please them. So a business decision to make\n",
    "# is to add a discount for your tailoring service and with each item added to a \n",
    "# basket the discount reduces. Giving single item buyers(first-timers) more of an \n",
    "# incentive to use the tailoring service to have the perfect fit and less of \n",
    "# chance to return it."
   ]
  },
  {
   "cell_type": "code",
   "execution_count": 11,
   "id": "10f83373",
   "metadata": {},
   "outputs": [],
   "source": [
    "# Gross sales = items cost\n",
    "# Net sales = items cost - discounts + returns(it is negative already)\n",
    "# total sales = net sales + VAT\n",
    "# VAT = Net sales / 5"
   ]
  },
  {
   "cell_type": "code",
   "execution_count": 12,
   "id": "e6cf3308",
   "metadata": {},
   "outputs": [],
   "source": [
    "#1.Did you find anything else interesting in the data?\n",
    "# Alot of your shorts are at the bottom of the total sales distribution \n",
    "# between different product types. I'm assuming its because most people\n",
    "# are pretty loose with their shorts therefore tailoring is less of a \n",
    "# necessity. I would suggest maybe change the marketing strategy and add\n",
    "# an extra incentive for shorts since tailored jeans and trousers sell for\n",
    "# themselves. One option is maybe giving every customer who purchases \n",
    "# tailored shorts a discount for the jeans so its more of an incentive for\n",
    "# people to buy tailored shorts."
   ]
  },
  {
   "cell_type": "code",
   "execution_count": 13,
   "id": "745336ec",
   "metadata": {},
   "outputs": [],
   "source": [
    "#2.Any comments on how the data is structured?\n",
    "# Well designed but I just don't see the need for some columns to be present\n",
    "# in the dataset specifically Taxes since it doesn't give any new insight\n",
    "# and its continously 1/5th of the net sales value. other redundant \n",
    "# columns would be product vendor since its always Spoke no need for it to be \n",
    "# present in the dataset. Finally a small nitpick would be to rearrange a few \n",
    "# of the columns like change net quantity to be next to the order \n",
    "# & return quantity\n"
   ]
  },
  {
   "cell_type": "code",
   "execution_count": 14,
   "id": "b5854271",
   "metadata": {},
   "outputs": [],
   "source": [
    "#3. What other analysis might we be able to run if you had more time / had the complete historical dataset?\n",
    "# For the distribution it would have been great to have a more visual \n",
    "# distribution so histograms detailing the mean, interquartile chain and \n",
    "# maybe even the standard deviation. That would make developing insights \n",
    "# from the size preference of your customers much easier and more accurate\n"
   ]
  },
  {
   "cell_type": "code",
   "execution_count": 15,
   "id": "926dcf02",
   "metadata": {},
   "outputs": [],
   "source": [
    "#4.\tWhat other data sources might you want to combine with this to help enhance your analysis\n",
    "# data sources that contain data relating to digital traffic, inventory turn over\n",
    "# ratio. Combining these data sources with the GroupBY daily version of the \n",
    "# dataframe as they both have a common column in the days field. Will allow you\n",
    "# as a company have good insight into how to make smarter decisions, in\n",
    "# pricing, manufacturing, marketing, purchasing and even warehouse management.\n",
    "# All in all your stock control will in every way improve."
   ]
  }
 ],
 "metadata": {
  "kernelspec": {
   "display_name": "Python 3 (ipykernel)",
   "language": "python",
   "name": "python3"
  },
  "language_info": {
   "codemirror_mode": {
    "name": "ipython",
    "version": 3
   },
   "file_extension": ".py",
   "mimetype": "text/x-python",
   "name": "python",
   "nbconvert_exporter": "python",
   "pygments_lexer": "ipython3",
   "version": "3.9.6"
  }
 },
 "nbformat": 4,
 "nbformat_minor": 5
}
